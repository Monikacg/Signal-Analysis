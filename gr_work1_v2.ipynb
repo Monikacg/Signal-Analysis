{
  "nbformat": 4,
  "nbformat_minor": 0,
  "metadata": {
    "colab": {
      "name": "gr_work1_v2.ipynb",
      "provenance": [],
      "collapsed_sections": [],
      "include_colab_link": true
    },
    "kernelspec": {
      "display_name": "Python 3",
      "language": "python",
      "name": "python3"
    }
  },
  "cells": [
    {
      "cell_type": "markdown",
      "metadata": {
        "id": "view-in-github",
        "colab_type": "text"
      },
      "source": [
        "<a href=\"https://colab.research.google.com/github/Monikacg/Signal-Manipulation/blob/master/gr_work1_v2.ipynb\" target=\"_parent\"><img src=\"https://colab.research.google.com/assets/colab-badge.svg\" alt=\"Open In Colab\"/></a>"
      ]
    },
    {
      "cell_type": "markdown",
      "metadata": {
        "id": "yHYDfWRmuFC0",
        "colab_type": "text"
      },
      "source": [
        "# Syntetic signal analysis - Group work 1"
      ]
    },
    {
      "cell_type": "code",
      "metadata": {
        "id": "DfBIxEFyuFC5",
        "colab_type": "code",
        "colab": {}
      },
      "source": [
        "# Make plots appear inline, set custom plotting style\n",
        "%matplotlib inline\n",
        "import matplotlib.pyplot as plt\n",
        "import numpy as np\n",
        "from scipy import fftpack\n",
        "from tftb.generators import amgauss, fmlin\n",
        "from tftb.processing import WignerVilleDistribution"
      ],
      "execution_count": null,
      "outputs": []
    },
    {
      "cell_type": "markdown",
      "metadata": {
        "id": "qIqNw4rruFDE",
        "colab_type": "text"
      },
      "source": [
        "## Create signal"
      ]
    },
    {
      "cell_type": "code",
      "metadata": {
        "id": "0O2ZVMqeuFDH",
        "colab_type": "code",
        "colab": {}
      },
      "source": [
        "f_s = 1000 # Sampling rate (measurements/sec)\n",
        "signal_length = 2\n",
        "\n",
        "f1 = 5\n",
        "f2 = 48\n",
        "f3 = 50\n",
        "\n",
        "t = np.linspace(0, signal_length, 2*f_s, endpoint = False)\n",
        "\n",
        "x1 = np.sin(f1* 2 * np.pi*  t)\n",
        "x2 = np.sin(f2* 2 * np.pi*  t)\n",
        "x3 = np.sin(f3* 2 * np.pi*  t)\n",
        "\n",
        "# Compose signal \n",
        "signal = x1 + x2 + x3\n",
        "signal = x1 + x2 + x3\n",
        "\n",
        "plt.figure(1)\n",
        "plt.figure(figsize=(15,6))\n",
        "plt.subplot(411)\n",
        "plt.plot(x1)\n",
        "plt.title(\"Source signal (5, 48 and 50 Hz) - Length of time series = {} sec, sample_rate = {}\".format(len(signal)/f_s, f_s))\n",
        "\n",
        "plt.subplot(412)\n",
        "plt.plot(x2)\n",
        "plt.ylabel(\"Amplitude\")\n",
        "\n",
        "plt.subplot(413)\n",
        "plt.plot(x3)\n",
        "\n",
        "plt.subplot(414)\n",
        "plt.plot(signal)\n",
        "plt.xlabel(\"Sample nr.\")\n",
        "plt.show()\n"
      ],
      "execution_count": null,
      "outputs": []
    },
    {
      "cell_type": "markdown",
      "metadata": {
        "id": "zYbvPfglwJyJ",
        "colab_type": "text"
      },
      "source": [
        "# Create offset signal"
      ]
    },
    {
      "cell_type": "markdown",
      "metadata": {
        "id": "h24_8pLswJyL",
        "colab_type": "text"
      },
      "source": [
        "# Create the noisy signal"
      ]
    },
    {
      "cell_type": "code",
      "metadata": {
        "id": "NCjWVg10wJyN",
        "colab_type": "code",
        "colab": {}
      },
      "source": [
        "import numpy as np\n",
        "import random\n",
        "\n",
        "from tftb.generators import sigmerge, noisecg\n",
        "\n",
        "noisy_signal = sigmerge(signal, noisecg(2000), -5)\n",
        "\n",
        "plt.plot(np.real(noisy_signal))\n",
        "plt.xlim(0, 2000)\n",
        "plt.title('Noisy signal')\n",
        "plt.ylabel('Real Part')\n",
        "plt.xlabel('Time')\n",
        "plt.grid()\n",
        "plt.show()"
      ],
      "execution_count": null,
      "outputs": []
    },
    {
      "cell_type": "markdown",
      "metadata": {
        "id": "TEN6GS6auFDW",
        "colab_type": "text"
      },
      "source": [
        "# DFT"
      ]
    },
    {
      "cell_type": "markdown",
      "metadata": {
        "id": "A9mn7qIowJyU",
        "colab_type": "text"
      },
      "source": [
        "### no noise -- Slå sammen plot  her"
      ]
    },
    {
      "cell_type": "code",
      "metadata": {
        "id": "pRW2SyR3uFDZ",
        "colab_type": "code",
        "colab": {}
      },
      "source": [
        "X = fftpack.fft(signal)\n",
        "\n",
        "freqs = fftpack.fftfreq(len(signal)) * f_s\n",
        "\n",
        "fig, ax = plt.subplots()\n",
        "ax.stem(freqs, np.abs(X))\n",
        "\n",
        "ax.set_xlabel('Frequency in Hertz [Hz]')\n",
        "ax.set_ylabel('Frequency Domain (Spectrum) Magnitude')\n",
        "ax.set_xlim(0, 60)\n",
        "ax.set_ylim(0, 1100)"
      ],
      "execution_count": null,
      "outputs": []
    },
    {
      "cell_type": "markdown",
      "metadata": {
        "id": "VzEGATukuFDr",
        "colab_type": "text"
      },
      "source": [
        "### with noise"
      ]
    },
    {
      "cell_type": "code",
      "metadata": {
        "id": "De2peCQeuFD3",
        "colab_type": "code",
        "colab": {}
      },
      "source": [
        "X = fftpack.fft(noisy_signal.real)\n",
        "freqs = fftpack.fftfreq(len(noisy_signal.real)) * f_s\n",
        "\n",
        "fig, ax = plt.subplots()\n",
        "\n",
        "ax.stem(freqs, np.abs(X))\n",
        "ax.set_xlabel('Frequency in Hertz [Hz]')\n",
        "ax.set_ylabel('Frequency Domain (Spectrum) Magnitude')\n",
        "ax.set_xlim(0, 55)\n",
        "ax.set_ylim(-5, 1200)"
      ],
      "execution_count": null,
      "outputs": []
    },
    {
      "cell_type": "markdown",
      "metadata": {
        "id": "n1C8dWtPwJyi",
        "colab_type": "text"
      },
      "source": [
        "# Shor time fourier transfrm (STFT) - slå sammen plot her"
      ]
    },
    {
      "cell_type": "markdown",
      "metadata": {
        "id": "gQ0L_ZCZwJyj",
        "colab_type": "text"
      },
      "source": [
        "### No noise"
      ]
    },
    {
      "cell_type": "code",
      "metadata": {
        "id": "h_fXQxovwJyl",
        "colab_type": "code",
        "colab": {}
      },
      "source": [
        "import scipy\n",
        "f, t1, Zxx = scipy.signal.stft(signal, f_s, nperseg=2000)\n",
        "\n",
        "plt.pcolormesh(t1, f, np.abs(Zxx), vmin=0, vmax=1)\n",
        "\n",
        "plt.title('STFT Magnitude')\n",
        "plt.ylabel('Frequency [Hz]')\n",
        "plt.xlabel('Time [sec]')\n",
        "plt.xlim(0, 2)\n",
        "plt.ylim(0, 60)\n",
        "plt.show()"
      ],
      "execution_count": null,
      "outputs": []
    },
    {
      "cell_type": "markdown",
      "metadata": {
        "id": "VYzzPajywJyq",
        "colab_type": "text"
      },
      "source": [
        "### With noise "
      ]
    },
    {
      "cell_type": "code",
      "metadata": {
        "id": "HEpqTdqawJyr",
        "colab_type": "code",
        "colab": {}
      },
      "source": [
        "f, t2, Zxx = scipy.signal.stft(noisy_signal.real, f_s, nperseg=2000)\n",
        "\n",
        "plt.pcolormesh(t2, f, np.abs(Zxx), vmin=0, vmax=1)\n",
        "\n",
        "plt.title('STFT Magnitude')\n",
        "plt.ylabel('Frequency [Hz]')\n",
        "plt.xlabel('Time [sec]')\n",
        "plt.xlim(0, 2)\n",
        "plt.ylim(0, 60)\n",
        "plt.show()"
      ],
      "execution_count": null,
      "outputs": []
    },
    {
      "cell_type": "markdown",
      "metadata": {
        "id": "AfOFE-zQwJyv",
        "colab_type": "text"
      },
      "source": [
        "# Hilbert transform (HT)"
      ]
    },
    {
      "cell_type": "markdown",
      "metadata": {
        "id": "Pa6jv3wzwJyx",
        "colab_type": "text"
      },
      "source": [
        "## fist, compute scipy.signal.hilbert computes the analytic signal\n",
        "\n",
        "# Lag funksjon av denne koden:\n",
        "-  funk som tar inn et signal finner analytic ++++ og plotter.\n",
        "-  returnerer inst_frq og amplitude_envelope, forsi vi treger det for compexe plott under\n",
        "- Kall denne funk for vanlig sig, noise, etc.."
      ]
    },
    {
      "cell_type": "code",
      "metadata": {
        "id": "DcmCTd_Yy4fi",
        "colab_type": "code",
        "colab": {}
      },
      "source": [
        "from scipy.fftpack import fft,ifft\n",
        "from scipy.signal import hilbert, chirp, stft \n",
        "\n",
        "analytic_signal = hilbert(signal)\n",
        "amplitude_envelope = np.abs(analytic_signal)\n",
        "\n",
        "instantaneous_phase = np.unwrap(np.angle(analytic_signal))\n",
        "\n",
        "instantaneous_frequency = (np.diff(instantaneous_phase) /\n",
        "                           (2.0*np.pi) * f_s)\n",
        "\n",
        "fig = plt.figure(figsize = (16,6))\n",
        "plt.rcParams.update({'font.size': 18})\n",
        "#plt.tight_layout()\n",
        "ax0 = fig.add_subplot(221)\n",
        "\n",
        "ax0.plot(t, signal, label='signal')\n",
        "ax0.plot(t, amplitude_envelope, label='envelope')\n",
        "ax0.set_xlabel(\"time in seconds\")\n",
        "ax0.legend()\n",
        "\n",
        "ax1 = fig.add_subplot(222)\n",
        "ax1.plot(t[1:], instantaneous_frequency)\n",
        "ax1.set_xlabel(\"time in seconds\")\n",
        "ax1.set_ylim(-500, 500.0)"
      ],
      "execution_count": null,
      "outputs": []
    },
    {
      "cell_type": "markdown",
      "metadata": {
        "id": "Ua00341uwJy8",
        "colab_type": "text"
      },
      "source": [
        "# Lag funk av denne også \n",
        "-  lag funk som plotter\n",
        "-  tar inn dem to parameterene fra over \n",
        "-  gir ut plot"
      ]
    },
    {
      "cell_type": "code",
      "metadata": {
        "id": "q3j3617_wJy9",
        "colab_type": "code",
        "colab": {}
      },
      "source": [
        "fig = plt.figure(figsize = (16,6))\n",
        "plt.rcParams.update({'font.size': 18})\n",
        "\n",
        "ax0 = plt.subplot(121, projection='polar')\n",
        "ax0.plot(instantaneous_phase, amplitude_envelope)\n",
        "ax0.set_rmax(5)\n",
        "ax0.set_rticks([])\n",
        "ax0.grid(True)\n",
        "\n",
        "ax1 = plt.subplot(122, projection='polar')\n",
        "ax1.plot(instantaneous_phase, amplitude_envelope)\n",
        "ax1.set_rmax(5)\n",
        "ax1.set_rticks([])\n",
        "ax1.grid(True)\n"
      ],
      "execution_count": null,
      "outputs": []
    },
    {
      "cell_type": "markdown",
      "metadata": {
        "id": "5baaKo6MwJzC",
        "colab_type": "text"
      },
      "source": [
        "## Bytt ut dette med funk-kall\n",
        "-- husk å sette navn på plott"
      ]
    },
    {
      "cell_type": "code",
      "metadata": {
        "id": "E2xhv91LwJzE",
        "colab_type": "code",
        "colab": {}
      },
      "source": [
        "analytic_signal = hilbert(noisy_signal.real)\n",
        "amplitude_envelope = np.abs(analytic_signal)\n",
        "\n",
        "instantaneous_phase = np.unwrap(np.angle(analytic_signal))\n",
        "\n",
        "instantaneous_frequency = (np.diff(instantaneous_phase) /\n",
        "                           (2.0*np.pi) * f_s)\n",
        "\n",
        "fig = plt.figure(figsize = (16,6))\n",
        "plt.rcParams.update({'font.size': 18})\n",
        "#plt.tight_layout()\n",
        "ax0 = fig.add_subplot(221)\n",
        "\n",
        "ax0.plot(t, signal, label='signal')\n",
        "ax0.plot(t, amplitude_envelope, label='envelope')\n",
        "ax0.set_xlabel(\"time in seconds\")\n",
        "ax0.legend()\n",
        "\n",
        "ax1 = fig.add_subplot(222)\n",
        "ax1.plot(t[1:], instantaneous_frequency)\n",
        "ax1.set_xlabel(\"time in seconds\")\n",
        "ax1.set_ylim(-500, 500.0)"
      ],
      "execution_count": null,
      "outputs": []
    },
    {
      "cell_type": "markdown",
      "metadata": {
        "id": "D6OsAk58wJzK",
        "colab_type": "text"
      },
      "source": [
        "## Bytt om til funk-kall"
      ]
    },
    {
      "cell_type": "code",
      "metadata": {
        "id": "tv872Q-wwJzL",
        "colab_type": "code",
        "colab": {}
      },
      "source": [
        "fig = plt.figure(figsize = (16,6))\n",
        "plt.rcParams.update({'font.size': 18})\n",
        "\n",
        "ax0 = plt.subplot(121, projection='polar')\n",
        "ax0.plot(instantaneous_phase, amplitude_envelope)\n",
        "ax0.set_rmax(10)\n",
        "ax0.set_rticks([])\n",
        "ax0.grid(True)\n",
        "\n",
        "ax1 = plt.subplot(122, projection='polar')\n",
        "ax1.plot(instantaneous_phase, amplitude_envelope)\n",
        "ax1.set_rmax(10)\n",
        "ax1.set_rticks([])\n",
        "ax1.grid(True)"
      ],
      "execution_count": null,
      "outputs": []
    },
    {
      "cell_type": "markdown",
      "metadata": {
        "id": "ksXeozuiwJzR",
        "colab_type": "text"
      },
      "source": [
        "## scipy.fftpack.hilbert is just the Hilbert transform. \n",
        "If you want the Hilbert transform, not the analytical signal, use scipy.fftpack.hilbert."
      ]
    },
    {
      "cell_type": "code",
      "metadata": {
        "id": "3AT9Azw4wJzT",
        "colab_type": "code",
        "colab": {}
      },
      "source": [
        "hilbert_signal = scipy.fftpack.hilbert(signal, _cache={})\n",
        "\n",
        "fig = plt.figure()\n",
        "ax0 = fig.add_subplot(211)\n",
        "\n",
        "ax0.plot(t, hilbert_signal, label='hilbert signal')\n",
        "ax0.set_xlabel(\"time in seconds\")\n",
        "ax0.set_ylabel(\"Frequency\")\n",
        "ax0.legend()"
      ],
      "execution_count": null,
      "outputs": []
    },
    {
      "cell_type": "code",
      "metadata": {
        "id": "omcotmkt06G7",
        "colab_type": "code",
        "colab": {}
      },
      "source": [
        "# WVD - same as in Example 1 from lecture"
      ],
      "execution_count": null,
      "outputs": []
    },
    {
      "cell_type": "markdown",
      "metadata": {
        "id": "uYa1POhtwJzs",
        "colab_type": "text"
      },
      "source": [
        "### No noise"
      ]
    },
    {
      "cell_type": "code",
      "metadata": {
        "id": "bKS_eYtqwJzt",
        "colab_type": "code",
        "colab": {}
      },
      "source": [
        "from tftb.generators import amgauss, fmlin\n",
        "\n",
        "n_points = 2000\n",
        "fmin, fmax = 0.0, 1\n",
        "\n",
        "plt.plot(np.real(signal))\n",
        "plt.title(\"Linear Frequency Modulation\")\n",
        "plt.show()\n",
        "\n",
        "\n",
        "dsp1 = np.fft.fftshift(np.abs(np.fft.fft(signal)) ** 2)\n",
        "\n",
        "plt.plot(np.arange(-1000, 1000, dtype=float) / 300, dsp1)\n",
        "plt.xlim(-0.5, 0.5)\n",
        "plt.title('Spectrum')\n",
        "plt.ylabel('Squared modulus')\n",
        "plt.xlabel('Normalized Frequency')\n",
        "plt.grid()\n",
        "plt.show()\n",
        "\n",
        "from tftb.processing import WignerVilleDistribution\n",
        "\n",
        "wvd = WignerVilleDistribution(signal)\n",
        "wvd.run()\n",
        "wvd.plot(kind='contour', extent=[0, n_points, fmin, fmax])"
      ],
      "execution_count": null,
      "outputs": []
    },
    {
      "cell_type": "markdown",
      "metadata": {
        "id": "yiTAy_RxwJz0",
        "colab_type": "text"
      },
      "source": [
        "### With noise"
      ]
    },
    {
      "cell_type": "code",
      "metadata": {
        "id": "kExg8zKxwJz1",
        "colab_type": "code",
        "colab": {}
      },
      "source": [
        "dsp1 = np.fft.fftshift(np.abs(np.fft.fft(noisy_signal)) ** 2)\n",
        "plt.plot(np.arange(-1000, 1000, dtype=float) / 2000, dsp1)\n",
        "plt.xlim(-0.05, 0.5)\n",
        "plt.title('Spectrum of Noisy Signal')\n",
        "plt.ylabel('Squared modulus')\n",
        "plt.xlabel('Normalized Frequency')\n",
        "plt.grid()\n",
        "plt.show()"
      ],
      "execution_count": null,
      "outputs": []
    },
    {
      "cell_type": "code",
      "metadata": {
        "id": "R0uKK7Z_wJz7",
        "colab_type": "code",
        "colab": {}
      },
      "source": [
        "wvd = WignerVilleDistribution(noisy_signal)\n",
        "wvd.run()\n",
        "wvd.plot(kind='contour')"
      ],
      "execution_count": null,
      "outputs": []
    },
    {
      "cell_type": "markdown",
      "metadata": {
        "id": "GpDVdyTAwJ0F",
        "colab_type": "text"
      },
      "source": [
        "# Spectrogram"
      ]
    },
    {
      "cell_type": "code",
      "metadata": {
        "id": "NQ8tN1cVwJ0H",
        "colab_type": "code",
        "colab": {}
      },
      "source": [
        "signalData = signal\n",
        "samplingFrequency= f_s\n",
        "\n",
        "\n",
        "# Plot the signal read from wav file\n",
        "\n",
        "plt.subplot(211)\n",
        "\n",
        "plt.title('Spectrogram of signal')\n",
        "\n",
        " \n",
        "plt.plot(signalData)\n",
        "plt.xlabel('Sample')\n",
        "plt.ylabel('Amplitude')\n",
        "\n",
        "plt.subplot(212)\n",
        "plt.specgram(signalData,Fs=samplingFrequency, NFFT=2**12)\n",
        "\n",
        "plt.xlabel('Time')\n",
        "plt.xlim(0, 1)\n",
        "plt.ylim(0, 60)\n",
        "plt.ylabel('Frequency')\n",
        "\n",
        "plt.show()"
      ],
      "execution_count": null,
      "outputs": []
    },
    {
      "cell_type": "markdown",
      "metadata": {
        "id": "YRuqWSU2wJ0N",
        "colab_type": "text"
      },
      "source": [
        "## WT"
      ]
    },
    {
      "cell_type": "code",
      "metadata": {
        "id": "M84lzrdqwJ0O",
        "colab_type": "code",
        "colab": {}
      },
      "source": [
        "# wt_sig = scipy.signal.cwt(signal)\n",
        "widths = np.arange(1, 300)\n",
        "cwtmatr = scipy.signal.cwt(signalData, signal.ricker, widths)\n",
        "\n",
        "plt.imshow(cwtmatr, extent=[-1, 1, 1, 31], cmap='PRGn', aspect='auto',\n",
        "           vmax=abs(cwtmatr).max(), vmin=-abs(cwtmatr).max())\n",
        "plt.show()"
      ],
      "execution_count": null,
      "outputs": []
    },
    {
      "cell_type": "code",
      "metadata": {
        "id": "yIJFK84ywJ0X",
        "colab_type": "code",
        "colab": {}
      },
      "source": [
        ""
      ],
      "execution_count": null,
      "outputs": []
    }
  ]
}